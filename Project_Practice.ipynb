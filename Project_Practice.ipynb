{
 "cells": [
  {
   "cell_type": "code",
   "execution_count": null,
   "metadata": {},
   "outputs": [],
   "source": [
    "import numpy as np\n",
    "import pandas as pd\n",
    "from matplotlib import pyplot as plt\n",
    "from scipy import stats\n",
    "\n",
    "from scipy.stats import linregress\n",
    "from sklearn import datasets"
   ]
  },
  {
   "cell_type": "code",
   "execution_count": null,
   "metadata": {},
   "outputs": [],
   "source": [
    "# analyst_df = pd.read_csv(\"BusinessAnalyst.csv\")\n",
    "# engineer_df = pd.read_csv(\"DataEngineer.csv\")\n",
    "scientist_df = pd.read_csv(\"DataScientist.csv\")\n"
   ]
  },
  {
   "cell_type": "code",
   "execution_count": null,
   "metadata": {},
   "outputs": [],
   "source": [
    "df = scientist_df[\"Salary Estimate\"].str.split(\"(\", n = 1, expand = True) \n",
    "scientist_df[\"Salary Estimate\"]= df\n",
    "  \n",
    "scientist_df"
   ]
  },
  {
   "cell_type": "code",
   "execution_count": null,
   "metadata": {},
   "outputs": [],
   "source": [
    "df_1 = scientist_df[\"Salary Estimate\"].str.split(\"-\", n = 1, expand = True)\n",
    "scientist_df[\"Salary Estimate Min\"]= df_1[0]\n",
    "scientist_df[\"Salary Estimate Max\"]= df_1[1]\n",
    "scientist_df"
   ]
  },
  {
   "cell_type": "code",
   "execution_count": null,
   "metadata": {},
   "outputs": [],
   "source": [
    "df_2 = scientist_df[\"Salary Estimate Min\"].str.split(\"$\", n = 1, expand = True)\n",
    "scientist_df[\"Salary Estimate Min\"]= df_2[1]\n",
    "scientist_df\n",
    "\n"
   ]
  },
  {
   "cell_type": "code",
   "execution_count": null,
   "metadata": {},
   "outputs": [],
   "source": [
    "df_3 = scientist_df[\"Salary Estimate Max\"].str.split(\"$\", n = 1, expand = True)\n",
    "scientist_df[\"Salary Estimate Max\"]= df_3[1]\n",
    "scientist_df\n"
   ]
  },
  {
   "cell_type": "code",
   "execution_count": null,
   "metadata": {},
   "outputs": [],
   "source": [
    "scientist_df['Salary Estimate Max'] =  scientist_df['Salary Estimate Max'].str.replace('K','000',regex = False)"
   ]
  },
  {
   "cell_type": "code",
   "execution_count": null,
   "metadata": {},
   "outputs": [],
   "source": [
    "scientist_df['Salary Estimate Min'] =  scientist_df['Salary Estimate Min'].str.replace('K','000',regex = False)"
   ]
  },
  {
   "cell_type": "code",
   "execution_count": null,
   "metadata": {},
   "outputs": [],
   "source": [
    "scientist_df.replace({\"-1\": \"0\"}, inplace=True)\n"
   ]
  },
  {
   "cell_type": "code",
   "execution_count": null,
   "metadata": {},
   "outputs": [],
   "source": [
    "# scientist_df['Salary Estimate Min'] = scientist_df['Salary Estimate Min'].astype(float).map('${:,.2f}'.format)\n",
    "# scientist_df['Salary Estimate Max'] = scientist_df['Salary Estimate Max'].astype(float).map('${:,.2f}'.format)"
   ]
  },
  {
   "cell_type": "code",
   "execution_count": null,
   "metadata": {},
   "outputs": [],
   "source": [
    "scientist_df.drop(scientist_df.index[scientist_df['Salary Estimate Max'] == '53 Per Hour'], inplace = True)\n",
    "scientist_df.drop(scientist_df.index[scientist_df['Salary Estimate Max'] == '27 Per Hour'], inplace = True)\n",
    "scientist_df.drop(scientist_df.index[scientist_df['Salary Estimate Max'] == '26 Per Hour'], inplace = True)"
   ]
  },
  {
   "cell_type": "code",
   "execution_count": null,
   "metadata": {},
   "outputs": [],
   "source": [
    "scientist_df['Salary Estimate Max'] = scientist_df['Salary Estimate Max'].astype(float)\n",
    "scientist_df['Salary Estimate Min'] = scientist_df['Salary Estimate Min'].astype(float)"
   ]
  },
  {
   "cell_type": "code",
   "execution_count": null,
   "metadata": {},
   "outputs": [],
   "source": [
    "scientist_df['Salary Estimate Average'] = (scientist_df['Salary Estimate Max'] + scientist_df['Salary Estimate Min']) / 2"
   ]
  },
  {
   "cell_type": "code",
   "execution_count": null,
   "metadata": {},
   "outputs": [],
   "source": [
    "scientist_df['Type of ownership'].value_counts()"
   ]
  },
  {
   "cell_type": "code",
   "execution_count": null,
   "metadata": {},
   "outputs": [],
   "source": [
    "count = scientist_df['Job Title'].value_counts()\n",
    "count.head(59)"
   ]
  },
  {
   "cell_type": "code",
   "execution_count": null,
   "metadata": {},
   "outputs": [],
   "source": [
    "scientist_df"
   ]
  },
  {
   "cell_type": "code",
   "execution_count": null,
   "metadata": {},
   "outputs": [],
   "source": [
    "scientist_df_1 = scientist_df.groupby([\"Type of ownership\"])\n",
    "ownership_df =scientist_df_1.mean()\n",
    "\n",
    "ownership_df = ownership_df[['Salary Estimate Max','Salary Estimate Average', 'Salary Estimate Min']]\n",
    "\n",
    "ownership_df = ownership_df.drop(ownership_df.index[[0]])\n"
   ]
  },
  {
   "cell_type": "code",
   "execution_count": null,
   "metadata": {},
   "outputs": [],
   "source": [
    "ownership_df"
   ]
  },
  {
   "cell_type": "code",
   "execution_count": null,
   "metadata": {},
   "outputs": [],
   "source": [
    "ownership_df.plot(kind=\"bar\", figsize=(10,7), width=.75)\n",
    "\n",
    "#set chart title\n",
    "plt.title(\"Regimen Frequency Chart\")\n",
    "plt.xlabel(\"Drug Regimen\")\n",
    "plt.ylabel(\"Data Frequency\")\n",
    "\n",
    "#Show chart and set layout\n",
    "plt.show()\n",
    "plt.tight_layout()\n"
   ]
  },
  {
   "cell_type": "code",
   "execution_count": null,
   "metadata": {},
   "outputs": [],
   "source": [
    "split_string = scientist_df[\"Company Name\"].str.split(\"\\n\", n = 1, expand = True) \n",
    "scientist_df[\"Company Name\"] =split_string[0]\n",
    "scientist_df"
   ]
  },
  {
   "cell_type": "code",
   "execution_count": null,
   "metadata": {},
   "outputs": [],
   "source": [
    "# df_2 = scientist_df[\"Salary Estimate Min\"].str.split(\",\", n = 1, expand = True)\n",
    "# scientist_df[\"Salary Estimate Min\"]= df_2[1]\n",
    "scientist_df['Job Title'].value_counts()"
   ]
  },
  {
   "cell_type": "code",
   "execution_count": null,
   "metadata": {},
   "outputs": [],
   "source": [
    "scientist_df.loc[scientist_df['Job Title'].str.contains('Data Analyst'), 'Job Title'] = \"Data Analyst\"\n",
    "scientist_df.loc[scientist_df['Job Title'].str.contains('Scientist'), 'Job Title'] = \"Data Scientist\"\n",
    "scientist_df.loc[scientist_df['Job Title'].str.contains('Engineer'), 'Job Title'] = \"Data Engineer\""
   ]
  },
  {
   "cell_type": "code",
   "execution_count": null,
   "metadata": {},
   "outputs": [],
   "source": [
    "scientist_df['Job Title'].value_counts()"
   ]
  },
  {
   "cell_type": "code",
   "execution_count": null,
   "metadata": {},
   "outputs": [],
   "source": [
    "# Clean up Employer category. Replace 'Self Employed' and 'Self' with 'Self-Employed'\n",
    "scientist_df['Job Title'] = scientist_df['Job Title'].replace({'Self Employed': 'Self-Employed', 'Self': 'Self-Employed'})\n"
   ]
  }
 ],
 "metadata": {
  "kernelspec": {
   "display_name": "Python 3",
   "language": "python",
   "name": "python3"
  },
  "language_info": {
   "codemirror_mode": {
    "name": "ipython",
    "version": 3
   },
   "file_extension": ".py",
   "mimetype": "text/x-python",
   "name": "python",
   "nbconvert_exporter": "python",
   "pygments_lexer": "ipython3",
   "version": "3.8.5"
  }
 },
 "nbformat": 4,
 "nbformat_minor": 4
}
